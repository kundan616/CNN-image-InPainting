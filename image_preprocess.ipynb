{
  "nbformat": 4,
  "nbformat_minor": 0,
  "metadata": {
    "colab": {
      "name": "git-eraser.ipynb",
      "provenance": [],
      "collapsed_sections": []
    },
    "kernelspec": {
      "name": "python3",
      "display_name": "Python 3"
    },
    "accelerator": "GPU"
  },
  "cells": [
    {
      "cell_type": "code",
      "metadata": {
        "id": "sFxYi7ja-FJS",
        "colab_type": "code",
        "colab": {
          "base_uri": "https://localhost:8080/",
          "height": 1000
        },
        "outputId": "93df0cbf-7332-466e-89fc-54135b847aa9"
      },
      "source": [
        "from keras.layers import Input, Dense, Conv2D, MaxPooling2D, UpSampling2D\n",
        "from keras.models import Model\n",
        "from keras import backend as K\n",
        "\n",
        "input_img = Input(shape=(300, 300, 3))  # adapt this if using `channels_first` image data format\n",
        "\n",
        "x = Conv2D(128, (5, 5), activation='relu', padding='same')(input_img)\n",
        "x = MaxPooling2D((2, 2), padding='same')(x)\n",
        "x = Conv2D(64, (5, 5), activation='relu', padding='same')(x)\n",
        "x = MaxPooling2D((2, 2), padding='same')(x)\n",
        "x = Conv2D(64, (5, 5), activation='relu', padding='same')(x)\n",
        "x = MaxPooling2D((2, 2), padding='same')(x)\n",
        "x = Conv2D(64, (5, 5), activation='relu', padding='same')(x)\n",
        "x = MaxPooling2D((2, 2), padding='same')(x)\n",
        "x = Conv2D(64, (5, 5), activation='relu', padding='same')(x)\n",
        "x = MaxPooling2D((2, 2), padding='same')(x)\n",
        "x = Conv2D(64, (5, 5), activation='relu', padding='same')(x)\n",
        "x = MaxPooling2D((2, 2), padding='same')(x)\n",
        "x = Conv2D(128, (3, 3), activation='relu', padding='same')(x)\n",
        "encoded = MaxPooling2D((2, 2), padding='same')(x)\n",
        "\n",
        "\n",
        "\n",
        "x = Conv2D(128, (3, 3), activation='relu', padding='same')(encoded)\n",
        "x = UpSampling2D((2, 2))(x)\n",
        "x = Conv2D(128, (3, 3), activation='relu', padding='same')(x)\n",
        "x = UpSampling2D((2, 2))(x)\n",
        "x = Conv2D(64, (3, 3), activation='relu', padding='same')(x)\n",
        "x = UpSampling2D((2, 2))(x)\n",
        "x = Conv2D(64, (3, 3), activation='relu')(x)\n",
        "x = UpSampling2D((2, 2))(x)\n",
        "x = Conv2D(64, (3, 3), activation='relu')(x)\n",
        "x = UpSampling2D((2, 2))(x)\n",
        "x = Conv2D(32, (5, 5), activation='relu')(x)\n",
        "x = UpSampling2D((2, 2))(x)\n",
        "x = Conv2D(32, (5, 5), activation='relu')(x)\n",
        "x = UpSampling2D((2, 2))(x)\n",
        "x = Conv2D(16, (5, 5), activation='relu')(x)\n",
        "x = Conv2D(16, (5, 5), activation='relu')(x)\n",
        "x = Conv2D(12, (3, 3), activation='relu')(x)\n",
        "decoded = Conv2D(3, (3, 3), activation='sigmoid')(x)\n",
        "\n",
        "autoencoder = Model(input_img, decoded)\n",
        "autoencoder.summary()\n",
        "\n",
        "autoencoder.compile(optimizer='adadelta', loss='mean_squared_error', metrics=['accuracy'])"
      ],
      "execution_count": null,
      "outputs": [
        {
          "output_type": "stream",
          "text": [
            "Model: \"model_3\"\n",
            "_________________________________________________________________\n",
            "Layer (type)                 Output Shape              Param #   \n",
            "=================================================================\n",
            "input_3 (InputLayer)         (None, 300, 300, 3)       0         \n",
            "_________________________________________________________________\n",
            "conv2d_37 (Conv2D)           (None, 300, 300, 128)     9728      \n",
            "_________________________________________________________________\n",
            "max_pooling2d_15 (MaxPooling (None, 150, 150, 128)     0         \n",
            "_________________________________________________________________\n",
            "conv2d_38 (Conv2D)           (None, 150, 150, 64)      204864    \n",
            "_________________________________________________________________\n",
            "max_pooling2d_16 (MaxPooling (None, 75, 75, 64)        0         \n",
            "_________________________________________________________________\n",
            "conv2d_39 (Conv2D)           (None, 75, 75, 64)        102464    \n",
            "_________________________________________________________________\n",
            "max_pooling2d_17 (MaxPooling (None, 38, 38, 64)        0         \n",
            "_________________________________________________________________\n",
            "conv2d_40 (Conv2D)           (None, 38, 38, 64)        102464    \n",
            "_________________________________________________________________\n",
            "max_pooling2d_18 (MaxPooling (None, 19, 19, 64)        0         \n",
            "_________________________________________________________________\n",
            "conv2d_41 (Conv2D)           (None, 19, 19, 64)        102464    \n",
            "_________________________________________________________________\n",
            "max_pooling2d_19 (MaxPooling (None, 10, 10, 64)        0         \n",
            "_________________________________________________________________\n",
            "conv2d_42 (Conv2D)           (None, 10, 10, 64)        102464    \n",
            "_________________________________________________________________\n",
            "max_pooling2d_20 (MaxPooling (None, 5, 5, 64)          0         \n",
            "_________________________________________________________________\n",
            "conv2d_43 (Conv2D)           (None, 5, 5, 128)         73856     \n",
            "_________________________________________________________________\n",
            "max_pooling2d_21 (MaxPooling (None, 3, 3, 128)         0         \n",
            "_________________________________________________________________\n",
            "conv2d_44 (Conv2D)           (None, 3, 3, 128)         147584    \n",
            "_________________________________________________________________\n",
            "up_sampling2d_15 (UpSampling (None, 6, 6, 128)         0         \n",
            "_________________________________________________________________\n",
            "conv2d_45 (Conv2D)           (None, 6, 6, 128)         147584    \n",
            "_________________________________________________________________\n",
            "up_sampling2d_16 (UpSampling (None, 12, 12, 128)       0         \n",
            "_________________________________________________________________\n",
            "conv2d_46 (Conv2D)           (None, 12, 12, 64)        73792     \n",
            "_________________________________________________________________\n",
            "up_sampling2d_17 (UpSampling (None, 24, 24, 64)        0         \n",
            "_________________________________________________________________\n",
            "conv2d_47 (Conv2D)           (None, 22, 22, 64)        36928     \n",
            "_________________________________________________________________\n",
            "up_sampling2d_18 (UpSampling (None, 44, 44, 64)        0         \n",
            "_________________________________________________________________\n",
            "conv2d_48 (Conv2D)           (None, 42, 42, 64)        36928     \n",
            "_________________________________________________________________\n",
            "up_sampling2d_19 (UpSampling (None, 84, 84, 64)        0         \n",
            "_________________________________________________________________\n",
            "conv2d_49 (Conv2D)           (None, 80, 80, 32)        51232     \n",
            "_________________________________________________________________\n",
            "up_sampling2d_20 (UpSampling (None, 160, 160, 32)      0         \n",
            "_________________________________________________________________\n",
            "conv2d_50 (Conv2D)           (None, 156, 156, 32)      25632     \n",
            "_________________________________________________________________\n",
            "up_sampling2d_21 (UpSampling (None, 312, 312, 32)      0         \n",
            "_________________________________________________________________\n",
            "conv2d_51 (Conv2D)           (None, 308, 308, 16)      12816     \n",
            "_________________________________________________________________\n",
            "conv2d_52 (Conv2D)           (None, 304, 304, 16)      6416      \n",
            "_________________________________________________________________\n",
            "conv2d_53 (Conv2D)           (None, 302, 302, 12)      1740      \n",
            "_________________________________________________________________\n",
            "conv2d_54 (Conv2D)           (None, 300, 300, 3)       327       \n",
            "=================================================================\n",
            "Total params: 1,239,283\n",
            "Trainable params: 1,239,283\n",
            "Non-trainable params: 0\n",
            "_________________________________________________________________\n"
          ],
          "name": "stdout"
        }
      ]
    },
    {
      "cell_type": "code",
      "metadata": {
        "id": "x6C3q9d4b9wh",
        "colab_type": "code",
        "colab": {}
      },
      "source": [
        "import numpy as np\n",
        "\n",
        "x_train = np.array(data[0:4800]).astype('float32')/255.\n",
        "x_test = np.array(data[4800:]).astype('float32')/255.\n",
        "y_train = np.array(normdata[0:4800]).astype('float32')/255.\n",
        "y_test = np.array(normdata[4800:]).astype('float32')/255."
      ],
      "execution_count": null,
      "outputs": []
    },
    {
      "cell_type": "code",
      "metadata": {
        "id": "OYzh2ynHKRVI",
        "colab_type": "code",
        "colab": {}
      },
      "source": [
        "!mkdir tmp"
      ],
      "execution_count": null,
      "outputs": []
    },
    {
      "cell_type": "code",
      "metadata": {
        "id": "1HWU6yT2dnXk",
        "colab_type": "code",
        "colab": {}
      },
      "source": [
        "!mkdir tmp/autoencoder"
      ],
      "execution_count": null,
      "outputs": []
    },
    {
      "cell_type": "code",
      "metadata": {
        "id": "oZbfmxIc-nWK",
        "colab_type": "code",
        "colab": {}
      },
      "source": [
        "!tensorboard --logdir=/tmp/autoencoder"
      ],
      "execution_count": null,
      "outputs": []
    },
    {
      "cell_type": "code",
      "metadata": {
        "id": "79hlcBRy-kEn",
        "colab_type": "code",
        "colab": {}
      },
      "source": [
        "from keras.callbacks import TensorBoard\n",
        "\n",
        "autoencoder.fit(x_train, y_train,\n",
        "                epochs=50,\n",
        "                batch_size=32,\n",
        "                shuffle=True,\n",
        "                validation_data=(x_test, y_test),\n",
        "                callbacks=[TensorBoard(log_dir='/tmp/autoencoder')])"
      ],
      "execution_count": null,
      "outputs": []
    },
    {
      "cell_type": "code",
      "metadata": {
        "id": "zMngGJxeJAH4",
        "colab_type": "code",
        "colab": {}
      },
      "source": [
        "j=autoencoder.predict(x_test[6].reshape(1,300,300,3))\n",
        "print(np.floor(j*255.).shape)\n",
        "cv2.imwrite('frame_out.jpg',np.floor(j*255.).reshape(300,300,3))"
      ],
      "execution_count": null,
      "outputs": []
    },
    {
      "cell_type": "code",
      "metadata": {
        "id": "1RGgaBSbNXFE",
        "colab_type": "code",
        "colab": {}
      },
      "source": [
        "k=x_test[6].reshape(1,300,300,3)\n",
        "cv2.imwrite('frame_org.jpg',np.floor(k*255.).reshape(300,300,3))"
      ],
      "execution_count": null,
      "outputs": []
    }
  ]
}