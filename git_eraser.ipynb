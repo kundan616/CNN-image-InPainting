{
  "nbformat": 4,
  "nbformat_minor": 0,
  "metadata": {
    "colab": {
      "name": "git-eraser.ipynb",
      "provenance": [],
      "collapsed_sections": []
    },
    "kernelspec": {
      "name": "python3",
      "display_name": "Python 3"
    },
    "accelerator": "GPU"
  },
  "cells": [
    {
      "cell_type": "code",
      "metadata": {
        "id": "UR9aLN2lT2W5",
        "colab_type": "code",
        "colab": {}
      },
      "source": [
        "import numpy as np\n",
        "import cv2\n",
        "import os\n",
        "import random\n",
        "import pickle\n",
        "i=1\n",
        "image_folder='val2017/'\n",
        "lis=os.listdir(image_folder)\n",
        "print(len(lis))\n",
        "data=[]\n",
        "normdata=[]\n",
        "for im_name in lis:\n",
        "    imgn=cv2.imread(image_folder+im_name)\n",
        "    img1=cv2.resize(imgn,(300,300))\n",
        "    normdata.append(img1)\n",
        "    cv2.imwrite('norm/{}.jpg'.format(i),img1)\n",
        "\n",
        "\n",
        "    x1=np.floor(random.uniform(0, 1)*300)\n",
        "    y1=np.floor(random.uniform(0, 1)*300)\n",
        "    x2=np.floor(random.uniform(0, 1)*300*0.25)\n",
        "    y2=np.floor(random.uniform(0, 1)*300*0.25)\n",
        "\n",
        "    xmin=int(x1-x2)\n",
        "    if x1-x2 <0:\n",
        "        xmin=0\n",
        "\n",
        "    ymin=int(y1-y2)\n",
        "    if y1-y2<0:\n",
        "        ymin=0\n",
        "\n",
        "    xmax=int(x1+x2)\n",
        "    if x1+x2>300:\n",
        "        xmax=300\n",
        "        \n",
        "    ymax=int(y1+y2)\n",
        "    if y1+y2>300:\n",
        "        ymax=300    \n",
        "\n",
        "    img1[xmin:xmax,ymin:ymax]=0\n",
        "\n",
        "    \n",
        "    cv2.imwrite('pro/{}.jpg'.format(i),img1)\n",
        "    data.append(img1)\n",
        "    print(i)\n",
        "    i+=1\n",
        "\n"
      ],
      "execution_count": null,
      "outputs": []
    },
    {
      "cell_type": "code",
      "metadata": {
        "id": "sFxYi7ja-FJS",
        "colab_type": "code",
        "colab": {}
      },
      "source": [
        "from tensorflow.keras.layers import Input, Dense, Conv2D, MaxPooling2D, UpSampling2D ,BatchNormalization\n",
        "from tensorflow.keras.models import Model\n",
        "\n",
        "input_img = Input(shape=(300, 300, 3))  # adapt this if using `channels_first` image data format\n",
        "\n",
        "x = Conv2D(128, (3, 3), activation='relu', padding='same')(input_img)\n",
        "x = MaxPooling2D((2, 2), padding='same')(x)\n",
        "x = Conv2D(256, (3, 3), activation='relu', padding='same')(x)\n",
        "x = BatchNormalization()(x)\n",
        "x = MaxPooling2D((2, 2), padding='same')(x)\n",
        "x = Conv2D(256, (3, 3), activation='relu', padding='same')(x)\n",
        "x = BatchNormalization()(x)\n",
        "x = MaxPooling2D((2, 2), padding='same')(x)\n",
        "x = Conv2D(512, (3, 3), activation='relu', padding='same')(x)\n",
        "x = BatchNormalization()(x)\n",
        "x = MaxPooling2D((2, 2), padding='same')(x)\n",
        "x = Conv2D(512, (3, 3), activation='relu', padding='same')(x)\n",
        "x = BatchNormalization()(x)\n",
        "x = MaxPooling2D((2, 2), padding='same')(x)\n",
        "x = Conv2D(1024, (3, 3), activation='relu', padding='same')(x)\n",
        "x = BatchNormalization()(x)\n",
        "x = MaxPooling2D((2, 2), padding='same')(x)\n",
        "x = Conv2D(1024, (3, 3), activation='relu', padding='same')(x)\n",
        "encoded = MaxPooling2D((2, 2), padding='same')(x)\n",
        "\n",
        "\n",
        "\n",
        "x = Conv2D(1024, (3, 3), activation='relu', padding='same')(encoded)\n",
        "x = BatchNormalization()(x)\n",
        "x = UpSampling2D((2, 2))(x)\n",
        "x = Conv2D(512, (3, 3), activation='relu', padding='same')(x)\n",
        "x = BatchNormalization()(x)\n",
        "x = UpSampling2D((2, 2))(x)\n",
        "x = Conv2D(512, (3, 3), activation='relu', padding='same')(x)\n",
        "x = BatchNormalization()(x)\n",
        "x = UpSampling2D((2, 2))(x)\n",
        "x = Conv2D(512, (3, 3), activation='relu')(x)\n",
        "x = BatchNormalization()(x)\n",
        "x = UpSampling2D((2, 2))(x)\n",
        "x = Conv2D(256, (3, 3), activation='relu')(x)\n",
        "x = BatchNormalization()(x)\n",
        "x = UpSampling2D((2, 2))(x)\n",
        "x = Conv2D(256, (5, 5), activation='relu')(x)\n",
        "x = BatchNormalization()(x)\n",
        "x = UpSampling2D((2, 2))(x)\n",
        "x = Conv2D(256, (5, 5), activation='relu')(x)\n",
        "x = BatchNormalization()(x)\n",
        "x = UpSampling2D((2, 2))(x)\n",
        "x = Conv2D(128, (5, 5), activation='relu')(x)\n",
        "x = BatchNormalization()(x)\n",
        "x = Conv2D(64, (5, 5), activation='relu')(x)\n",
        "x = Conv2D(32, (3, 3), activation='relu')(x)\n",
        "decoded = Conv2D(3, (3, 3), activation='sigmoid')(x)\n",
        "\n",
        "autoencoder = Model(input_img, decoded)\n",
        "autoencoder.summary()\n",
        "autoencoder.compile(optimizer='sgd', loss='mean_squared_error', metrics=['accuracy'])"
      ],
      "execution_count": null,
      "outputs": []
    },
    {
      "cell_type": "code",
      "metadata": {
        "id": "x6C3q9d4b9wh",
        "colab_type": "code",
        "colab": {}
      },
      "source": [
        "import numpy as np\n",
        "\n",
        "x_train = np.array(data[0:4800]).astype('float32')/255.\n",
        "x_test = np.array(data[4800:]).astype('float32')/255.\n",
        "y_train = np.array(normdata[0:4800]).astype('float32')/255.\n",
        "y_test = np.array(normdata[4800:]).astype('float32')/255."
      ],
      "execution_count": null,
      "outputs": []
    },
    {
      "cell_type": "code",
      "metadata": {
        "id": "OYzh2ynHKRVI",
        "colab_type": "code",
        "colab": {}
      },
      "source": [
        "!mkdir tmp"
      ],
      "execution_count": null,
      "outputs": []
    },
    {
      "cell_type": "code",
      "metadata": {
        "id": "1HWU6yT2dnXk",
        "colab_type": "code",
        "colab": {}
      },
      "source": [
        "!mkdir tmp/autoencoder"
      ],
      "execution_count": null,
      "outputs": []
    },
    {
      "cell_type": "code",
      "metadata": {
        "id": "oZbfmxIc-nWK",
        "colab_type": "code",
        "colab": {}
      },
      "source": [
        "!tensorboard --logdir=/tmp/autoencoder"
      ],
      "execution_count": null,
      "outputs": []
    },
    {
      "cell_type": "code",
      "metadata": {
        "id": "79hlcBRy-kEn",
        "colab_type": "code",
        "colab": {}
      },
      "source": [
        "from keras.callbacks import TensorBoard\n",
        "\n",
        "autoencoder.fit(x_train, y_train,\n",
        "                epochs=50,\n",
        "                batch_size=32,\n",
        "                shuffle=True,\n",
        "                validation_data=(x_test, y_test),\n",
        "                callbacks=[TensorBoard(log_dir='/tmp/autoencoder')])"
      ],
      "execution_count": null,
      "outputs": []
    },
    {
      "cell_type": "code",
      "metadata": {
        "id": "zMngGJxeJAH4",
        "colab_type": "code",
        "colab": {}
      },
      "source": [
        "j=autoencoder.predict(x_test[6].reshape(1,300,300,3))\n",
        "print(np.floor(j*255.).shape)\n",
        "cv2.imwrite('frame_out.jpg',np.floor(j*255.).reshape(300,300,3))"
      ],
      "execution_count": null,
      "outputs": []
    },
    {
      "cell_type": "code",
      "metadata": {
        "id": "1RGgaBSbNXFE",
        "colab_type": "code",
        "colab": {}
      },
      "source": [
        "k=x_test[6].reshape(1,300,300,3)\n",
        "cv2.imwrite('frame_org.jpg',np.floor(k*255.).reshape(300,300,3))"
      ],
      "execution_count": null,
      "outputs": []
    }
  ]
}